{
  "cells": [
    {
      "cell_type": "code",
      "source": [
        "!pip install openai"
      ],
      "metadata": {
        "id": "QNc58qkoCksM"
      },
      "id": "QNc58qkoCksM",
      "execution_count": null,
      "outputs": []
    },
    {
      "cell_type": "code",
      "source": [
        "!pip install langchain langchain-community"
      ],
      "metadata": {
        "id": "RkNcuA1SB33U"
      },
      "id": "RkNcuA1SB33U",
      "execution_count": null,
      "outputs": []
    },
    {
      "cell_type": "code",
      "execution_count": null,
      "id": "dd186bb6",
      "metadata": {
        "id": "dd186bb6"
      },
      "outputs": [],
      "source": [
        "from langchain.document_loaders import YoutubeLoader\n",
        "from langchain.llms import OpenAI\n",
        "from langchain.chains.summarize import load_summarize_chain"
      ]
    },
    {
      "cell_type": "code",
      "execution_count": null,
      "id": "2ba51e36",
      "metadata": {
        "hide_input": false,
        "id": "2ba51e36"
      },
      "outputs": [],
      "source": [
        "OPENAI_API_KEY = '...'"
      ]
    },
    {
      "cell_type": "code",
      "execution_count": null,
      "id": "e567d2ef",
      "metadata": {
        "id": "e567d2ef"
      },
      "outputs": [],
      "source": [
        "!pip install youtube-transcript-api\n",
        "!pip install pytube"
      ]
    },
    {
      "cell_type": "markdown",
      "id": "0b913708",
      "metadata": {
        "id": "0b913708"
      },
      "source": [
        "### 1. Simple Videos"
      ]
    },
    {
      "cell_type": "code",
      "execution_count": null,
      "id": "e30060ab",
      "metadata": {
        "id": "e30060ab"
      },
      "outputs": [],
      "source": [
        "loader = YoutubeLoader.from_youtube_url(\"https://www.youtube.com/watch?v=AXq0QHUwmh8\", add_video_info=True)"
      ]
    },
    {
      "cell_type": "code",
      "execution_count": null,
      "id": "ba6e2832",
      "metadata": {
        "id": "ba6e2832"
      },
      "outputs": [],
      "source": [
        "result = loader.load()"
      ]
    },
    {
      "cell_type": "code",
      "execution_count": null,
      "id": "52a99b6d",
      "metadata": {
        "collapsed": true,
        "id": "52a99b6d"
      },
      "outputs": [],
      "source": [
        "print (type(result))\n",
        "print (f\"Found video from {result[0].metadata['author']} that is {result[0].metadata['length']} seconds long\")\n",
        "print (\"\")\n",
        "print (result)"
      ]
    },
    {
      "cell_type": "code",
      "execution_count": null,
      "id": "0a675091",
      "metadata": {
        "id": "0a675091"
      },
      "outputs": [],
      "source": [
        "llm = OpenAI(temperature=0, openai_api_key=OPENAI_API_KEY)"
      ]
    },
    {
      "cell_type": "code",
      "execution_count": null,
      "id": "580bceb8",
      "metadata": {
        "id": "580bceb8"
      },
      "outputs": [],
      "source": [
        "chain = load_summarize_chain(llm, chain_type=\"stuff\", verbose=False)\n",
        "chain.run(result)"
      ]
    },
    {
      "cell_type": "markdown",
      "id": "f47acaa5",
      "metadata": {
        "id": "f47acaa5"
      },
      "source": [
        "### 2. Long Videos"
      ]
    },
    {
      "cell_type": "code",
      "execution_count": null,
      "id": "985523d3",
      "metadata": {
        "id": "985523d3"
      },
      "outputs": [],
      "source": [
        "loader = YoutubeLoader.from_youtube_url(\"https://www.youtube.com/watch?v=6Ub7Z1AGIuk\", add_video_info=True)"
      ]
    },
    {
      "cell_type": "code",
      "execution_count": null,
      "id": "d2c95abe",
      "metadata": {
        "id": "d2c95abe"
      },
      "outputs": [],
      "source": [
        "result = loader.load()"
      ]
    },
    {
      "cell_type": "markdown",
      "source": [
        "**This below code will give an error. This is to show that document is long and we have to use Text Splitter. Continue with the next cell**"
      ],
      "metadata": {
        "id": "gGXXLir_HVYh"
      },
      "id": "gGXXLir_HVYh"
    },
    {
      "cell_type": "code",
      "execution_count": null,
      "id": "f7454d1c",
      "metadata": {
        "collapsed": true,
        "id": "f7454d1c"
      },
      "outputs": [],
      "source": [
        "chain = load_summarize_chain(llm, chain_type=\"stuff\", verbose=False)\n",
        "chain.run(result)"
      ]
    },
    {
      "cell_type": "markdown",
      "id": "92a9de4b",
      "metadata": {
        "id": "92a9de4b"
      },
      "source": [
        "**Problem, your transcript/document is too long**"
      ]
    },
    {
      "cell_type": "code",
      "execution_count": null,
      "id": "6d071a07",
      "metadata": {
        "id": "6d071a07"
      },
      "outputs": [],
      "source": [
        "from langchain.text_splitter import RecursiveCharacterTextSplitter"
      ]
    },
    {
      "cell_type": "code",
      "execution_count": null,
      "id": "36968fb9",
      "metadata": {
        "id": "36968fb9"
      },
      "outputs": [],
      "source": [
        "text_splitter = RecursiveCharacterTextSplitter(chunk_size=2000, chunk_overlap=0)"
      ]
    },
    {
      "cell_type": "code",
      "execution_count": null,
      "id": "cb6beb06",
      "metadata": {
        "id": "cb6beb06"
      },
      "outputs": [],
      "source": [
        "texts = text_splitter.split_documents(result)"
      ]
    },
    {
      "cell_type": "code",
      "source": [
        "!pip install tiktoken"
      ],
      "metadata": {
        "id": "6LFVhStJDVa1"
      },
      "id": "6LFVhStJDVa1",
      "execution_count": null,
      "outputs": []
    },
    {
      "cell_type": "code",
      "execution_count": null,
      "id": "b7889046",
      "metadata": {
        "collapsed": true,
        "id": "b7889046"
      },
      "outputs": [],
      "source": [
        "chain = load_summarize_chain(llm, chain_type=\"map_reduce\", verbose=True)\n",
        "chain.run(texts[:4])"
      ]
    },
    {
      "cell_type": "markdown",
      "id": "7d5cf285",
      "metadata": {
        "id": "7d5cf285"
      },
      "source": [
        "### 3. Multiple Videos"
      ]
    },
    {
      "cell_type": "code",
      "execution_count": null,
      "id": "2dad798e",
      "metadata": {
        "id": "2dad798e"
      },
      "outputs": [],
      "source": [
        "youtube_url_list = [\"https://www.youtube.com/watch?v=AXq0QHUwmh8\", \"https://www.youtube.com/watch?v=EwHrjZxAT7g\"]\n",
        "\n",
        "texts = []\n",
        "\n",
        "text_splitter = RecursiveCharacterTextSplitter(chunk_size=2000, chunk_overlap=0)\n",
        "\n",
        "for url in youtube_url_list:\n",
        "    loader = YoutubeLoader.from_youtube_url(url, add_video_info=True)\n",
        "    result = loader.load()\n",
        "\n",
        "    texts.extend(text_splitter.split_documents(result))"
      ]
    },
    {
      "cell_type": "code",
      "execution_count": null,
      "id": "862af735",
      "metadata": {
        "id": "862af735"
      },
      "outputs": [],
      "source": [
        "chain = load_summarize_chain(llm, chain_type=\"map_reduce\", verbose=False)\n",
        "chain.run(texts)"
      ]
    },
    {
      "cell_type": "code",
      "execution_count": null,
      "id": "9bd0b571",
      "metadata": {
        "id": "9bd0b571"
      },
      "outputs": [],
      "source": []
    }
  ],
  "metadata": {
    "kernelspec": {
      "display_name": "Python 3 (ipykernel)",
      "language": "python",
      "name": "python3"
    },
    "language_info": {
      "codemirror_mode": {
        "name": "ipython",
        "version": 3
      },
      "file_extension": ".py",
      "mimetype": "text/x-python",
      "name": "python",
      "nbconvert_exporter": "python",
      "pygments_lexer": "ipython3",
      "version": "3.9.13"
    },
    "colab": {
      "provenance": []
    }
  },
  "nbformat": 4,
  "nbformat_minor": 5
}